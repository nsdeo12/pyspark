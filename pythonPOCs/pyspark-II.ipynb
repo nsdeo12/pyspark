{
 "cells": [
  {
   "cell_type": "code",
   "execution_count": 1,
   "id": "12a38bf1",
   "metadata": {},
   "outputs": [],
   "source": [
    "'''\n",
    "Earlier before spark 2 it was SparkContext which enables communication between cluster and resource manager.\n",
    "Also it enables access to SQLContext,HiveContext.\n",
    "For SparkContext we need SparkConfig\n",
    "Example:\n",
    "    import org.apache.spark.{SparkContext,SparkConf}\n",
    "    val sparkConf=new SparkConf().setAppName(\"testApp\").setMaster(\"yarn\")\n",
    "    val sc=new SparkContext(sparkConf)\n",
    "    \n",
    "SQLContext is a spark module for structure data processing and entry point for SparkSQL.\n",
    "    import org.apache.spark.{SparkContext,SparkConf}\n",
    "    import org.apache.spark.sql.SqlContext\n",
    "    val sparkConf=new SparkConf().setAppName(\"testApp\").setMaster(\"yarn\")\n",
    "    val sc=new sparkContext(sparkConf)\n",
    "    val sqlcontext=new SQLContext(sc)\n",
    "    \n",
    "HIVEContext is used if the spark application requires to communicate with HIVE.\n",
    "    import org.apache.spark.{SparkContext,SparkConf}\n",
    "    import org.apache.spark.sql.hive.hiveContext\n",
    "    val sparkConf=new SparkConf().setAppName(\"testApp\").setMaster(\"yarn\")\n",
    "    val sc=new sparkContext(sparkConf)\n",
    "    val hivecontext=new hiveContext(sc)\n",
    "'''\n",
    "# SparkSession is imported as it is the entry point for spark cluster.\n",
    "# For hive support enable hive support\n",
    "\n",
    "# All the necessary imports\n",
    "import findspark\n",
    "findspark.init()\n",
    "import pyspark\n",
    "from pyspark.sql import SparkSession\n",
    "spark=SparkSession.builder.appName('testSchema').getOrCreate()\n",
    "# for use of hive we can use the following\n",
    "# spark=SparkSession.builder\n",
    "#     .appName('testSchema')\n",
    "#     .ebableHiveSupport()\n",
    "#     .getOrCreate()"
   ]
  },
  {
   "cell_type": "code",
   "execution_count": 2,
   "id": "4794f96e",
   "metadata": {},
   "outputs": [
    {
     "data": {
      "text/html": [
       "<table border='1'>\n",
       "<tr><th>_c0</th><th>_c1</th><th>_c2</th><th>_c3</th><th>_c4</th><th>_c5</th><th>_c6</th></tr>\n",
       "<tr><td>Date</td><td>Open</td><td>High</td><td>Low</td><td>Close</td><td>Volume</td><td>Adj Close</td></tr>\n",
       "<tr><td>1/3/2012</td><td>59.97</td><td>61.06</td><td>59.87</td><td>60.33</td><td>12668800</td><td>52.619235</td></tr>\n",
       "<tr><td>1/4/2012</td><td>60.21</td><td>60.35</td><td>59.47</td><td>59.71</td><td>9593300</td><td>52.078475</td></tr>\n",
       "<tr><td>1/5/2012</td><td>59.35</td><td>59.62</td><td>58.37</td><td>59.42</td><td>12768200</td><td>51.825539</td></tr>\n",
       "<tr><td>1/6/2012</td><td>59.42</td><td>59.45</td><td>58.87</td><td>59</td><td>8069400</td><td>51.45922</td></tr>\n",
       "<tr><td>1/9/2012</td><td>59.03</td><td>59.55</td><td>58.92</td><td>59.18</td><td>6679300</td><td>51.616215</td></tr>\n",
       "<tr><td>1/10/2012</td><td>59.43</td><td>59.71</td><td>58.98</td><td>59.04</td><td>6907300</td><td>51.494109</td></tr>\n",
       "<tr><td>1/11/2012</td><td>59.06</td><td>59.53</td><td>59.04</td><td>59.4</td><td>6365600</td><td>51.808098</td></tr>\n",
       "<tr><td>1/12/2012</td><td>59.79</td><td>60</td><td>59.4</td><td>59.5</td><td>7236400</td><td>51.895316</td></tr>\n",
       "<tr><td>1/13/2012</td><td>59.18</td><td>59.61</td><td>59.01</td><td>59.54</td><td>7729300</td><td>51.930204</td></tr>\n",
       "</table>\n"
      ],
      "text/plain": [
       "+---------+-----+-----+-----+-----+--------+---------+\n",
       "|      _c0|  _c1|  _c2|  _c3|  _c4|     _c5|      _c6|\n",
       "+---------+-----+-----+-----+-----+--------+---------+\n",
       "|     Date| Open| High|  Low|Close|  Volume|Adj Close|\n",
       "| 1/3/2012|59.97|61.06|59.87|60.33|12668800|52.619235|\n",
       "| 1/4/2012|60.21|60.35|59.47|59.71| 9593300|52.078475|\n",
       "| 1/5/2012|59.35|59.62|58.37|59.42|12768200|51.825539|\n",
       "| 1/6/2012|59.42|59.45|58.87|   59| 8069400| 51.45922|\n",
       "| 1/9/2012|59.03|59.55|58.92|59.18| 6679300|51.616215|\n",
       "|1/10/2012|59.43|59.71|58.98|59.04| 6907300|51.494109|\n",
       "|1/11/2012|59.06|59.53|59.04| 59.4| 6365600|51.808098|\n",
       "|1/12/2012|59.79|   60| 59.4| 59.5| 7236400|51.895316|\n",
       "|1/13/2012|59.18|59.61|59.01|59.54| 7729300|51.930204|\n",
       "+---------+-----+-----+-----+-----+--------+---------+"
      ]
     },
     "execution_count": 2,
     "metadata": {},
     "output_type": "execute_result"
    }
   ],
   "source": [
    "df=spark.read.csv(\"C:\\\\Users\\\\Nilakantha\\\\Documents\\\\My Folder\\\\pythonPOCs\\\\walmart_stock.csv\")\n",
    "spark.conf.set(\"spark.sql.repl.eagerEval.enabled\",True)\n",
    "df.limit(10)"
   ]
  },
  {
   "cell_type": "code",
   "execution_count": 1,
   "id": "256178ea",
   "metadata": {},
   "outputs": [
    {
     "ename": "ModuleNotFoundError",
     "evalue": "No module named 'pyspark'",
     "output_type": "error",
     "traceback": [
      "\u001b[1;31m---------------------------------------------------------------------------\u001b[0m",
      "\u001b[1;31mModuleNotFoundError\u001b[0m                       Traceback (most recent call last)",
      "\u001b[1;32mC:\\Users\\NILAKA~1\\AppData\\Local\\Temp/ipykernel_23672/3633194741.py\u001b[0m in \u001b[0;36m<module>\u001b[1;34m\u001b[0m\n\u001b[1;32m----> 1\u001b[1;33m \u001b[1;32mfrom\u001b[0m \u001b[0mpyspark\u001b[0m\u001b[1;33m.\u001b[0m\u001b[0msql\u001b[0m\u001b[1;33m.\u001b[0m\u001b[0mtypes\u001b[0m \u001b[1;32mimport\u001b[0m \u001b[1;33m(\u001b[0m\u001b[0mStructField\u001b[0m\u001b[1;33m,\u001b[0m\u001b[0mDateType\u001b[0m\u001b[1;33m,\u001b[0m\u001b[0mTimestampType\u001b[0m\u001b[1;33m,\u001b[0m\u001b[0mDoubleType\u001b[0m\u001b[1;33m,\u001b[0m\u001b[0mIntegerType\u001b[0m\u001b[1;33m,\u001b[0m\u001b[0mStructType\u001b[0m\u001b[1;33m)\u001b[0m\u001b[1;33m\u001b[0m\u001b[1;33m\u001b[0m\u001b[0m\n\u001b[0m\u001b[0;32m      2\u001b[0m dataSchema=[StructField('Date',TimestampType(),True),\n\u001b[0;32m      3\u001b[0m            \u001b[0mStructField\u001b[0m\u001b[1;33m(\u001b[0m\u001b[1;34m'Open'\u001b[0m\u001b[1;33m,\u001b[0m\u001b[0mDoubleType\u001b[0m\u001b[1;33m(\u001b[0m\u001b[1;33m)\u001b[0m\u001b[1;33m,\u001b[0m\u001b[1;32mTrue\u001b[0m\u001b[1;33m)\u001b[0m\u001b[1;33m,\u001b[0m\u001b[1;33m\u001b[0m\u001b[1;33m\u001b[0m\u001b[0m\n\u001b[0;32m      4\u001b[0m            \u001b[0mStructField\u001b[0m\u001b[1;33m(\u001b[0m\u001b[1;34m'High'\u001b[0m\u001b[1;33m,\u001b[0m\u001b[0mDoubleType\u001b[0m\u001b[1;33m(\u001b[0m\u001b[1;33m)\u001b[0m\u001b[1;33m,\u001b[0m\u001b[1;32mTrue\u001b[0m\u001b[1;33m)\u001b[0m\u001b[1;33m,\u001b[0m\u001b[1;33m\u001b[0m\u001b[1;33m\u001b[0m\u001b[0m\n\u001b[0;32m      5\u001b[0m            \u001b[0mStructField\u001b[0m\u001b[1;33m(\u001b[0m\u001b[1;34m'Low'\u001b[0m\u001b[1;33m,\u001b[0m\u001b[0mDoubleType\u001b[0m\u001b[1;33m(\u001b[0m\u001b[1;33m)\u001b[0m\u001b[1;33m,\u001b[0m\u001b[1;32mTrue\u001b[0m\u001b[1;33m)\u001b[0m\u001b[1;33m,\u001b[0m\u001b[1;33m\u001b[0m\u001b[1;33m\u001b[0m\u001b[0m\n",
      "\u001b[1;31mModuleNotFoundError\u001b[0m: No module named 'pyspark'"
     ]
    }
   ],
   "source": [
    "from pyspark.sql.types import (StructField,DateType,TimestampType,DoubleType,IntegerType,StructType)\n",
    "dataSchema=[StructField('Date',TimestampType(),True),\n",
    "           StructField('Open',DoubleType(),True),\n",
    "           StructField('High',DoubleType(),True),\n",
    "           StructField('Low',DoubleType(),True),\n",
    "           StructField('Close',DoubleType(),True),\n",
    "           StructField('Volume',DoubleType(),True),\n",
    "           StructField('Adj Close',DoubleType(),True)\n",
    "           ]\n",
    "FinalSchema=StructType(fields=dataSchema)\n",
    "df=spark.read.format(\"csv\").option(\"header\",\"true\").option(\"timestampFormat\",\"mm-dd-yyyy\").load(\"C:\\\\Users\\\\Nilakantha\\\\Documents\\\\My Folder\\\\pythonPOCs\\\\walmart_stock.csv\",schema=FinalSchema)\n",
    "df.show()"
   ]
  },
  {
   "cell_type": "code",
   "execution_count": 4,
   "id": "48ec6653",
   "metadata": {
    "scrolled": true
   },
   "outputs": [
    {
     "name": "stdout",
     "output_type": "stream",
     "text": [
      "+----+-----+-----+-----+-----+---------+---------+\n",
      "|Date| Open| High|  Low|Close|   Volume|Adj Close|\n",
      "+----+-----+-----+-----+-----+---------+---------+\n",
      "|null|59.97|61.06|59.87|60.33|1.26688E7|52.619235|\n",
      "|null|60.21|60.35|59.47|59.71|9593300.0|52.078475|\n",
      "|null|59.35|59.62|58.37|59.42|1.27682E7|51.825539|\n",
      "|null|59.42|59.45|58.87| 59.0|8069400.0| 51.45922|\n",
      "|null|59.03|59.55|58.92|59.18|6679300.0|51.616215|\n",
      "|null|59.43|59.71|58.98|59.04|6907300.0|51.494109|\n",
      "|null|59.06|59.53|59.04| 59.4|6365600.0|51.808098|\n",
      "|null|59.79| 60.0| 59.4| 59.5|7236400.0|51.895316|\n",
      "|null|59.18|59.61|59.01|59.54|7729300.0|51.930204|\n",
      "|null|59.87|60.11|59.52|59.85|8500000.0|52.200581|\n",
      "|null|59.79|60.03|59.65|60.01|5911400.0|52.340131|\n",
      "|null|59.93|60.73|59.75|60.61|9234600.0|52.863447|\n",
      "|null|60.75|61.25|60.67|61.01|1.03788E7|53.212321|\n",
      "|null|60.81|60.98|60.51|60.91|7134100.0|53.125104|\n",
      "|null|60.75| 62.0|60.75|61.39|7362800.0|53.543754|\n",
      "|null|61.18|61.61|61.04|61.47|5915800.0|53.613531|\n",
      "|null| 61.8|61.84|60.77|60.97|7436200.0|53.177436|\n",
      "|null|60.86|61.12|60.54|60.71|6287300.0|52.950665|\n",
      "|null|60.47|61.32|60.35| 61.3|7636900.0|53.465257|\n",
      "|null|61.53|61.57|60.58|61.36|9761500.0| 53.51759|\n",
      "+----+-----+-----+-----+-----+---------+---------+\n",
      "only showing top 20 rows\n",
      "\n",
      "root\n",
      " |-- Date: timestamp (nullable = true)\n",
      " |-- Open: double (nullable = true)\n",
      " |-- High: double (nullable = true)\n",
      " |-- Low: double (nullable = true)\n",
      " |-- Close: double (nullable = true)\n",
      " |-- Volume: double (nullable = true)\n",
      " |-- Adj Close: double (nullable = true)\n",
      "\n"
     ]
    }
   ],
   "source": [
    "df.show()\n",
    "df.limit(2)\n",
    "df.printSchema()"
   ]
  },
  {
   "cell_type": "code",
   "execution_count": 5,
   "id": "cd59fcde",
   "metadata": {},
   "outputs": [
    {
     "data": {
      "text/plain": [
       "pyspark.sql.column.Column"
      ]
     },
     "execution_count": 5,
     "metadata": {},
     "output_type": "execute_result"
    }
   ],
   "source": [
    "df['Date']\n",
    "type(df['Date'])"
   ]
  },
  {
   "cell_type": "code",
   "execution_count": 6,
   "id": "afc7ba1a",
   "metadata": {
    "scrolled": true
   },
   "outputs": [
    {
     "name": "stdout",
     "output_type": "stream",
     "text": [
      "+----+-----+\n",
      "|Date| Open|\n",
      "+----+-----+\n",
      "|null|59.97|\n",
      "|null|60.21|\n",
      "|null|59.35|\n",
      "|null|59.42|\n",
      "|null|59.03|\n",
      "|null|59.43|\n",
      "|null|59.06|\n",
      "|null|59.79|\n",
      "|null|59.18|\n",
      "|null|59.87|\n",
      "|null|59.79|\n",
      "|null|59.93|\n",
      "|null|60.75|\n",
      "|null|60.81|\n",
      "|null|60.75|\n",
      "|null|61.18|\n",
      "|null| 61.8|\n",
      "|null|60.86|\n",
      "|null|60.47|\n",
      "|null|61.53|\n",
      "+----+-----+\n",
      "only showing top 20 rows\n",
      "\n"
     ]
    }
   ],
   "source": [
    "df.select(['Date'])\n",
    "# df.select(['Date']).show()\n",
    "df.select(['Date','Open']).show()\n"
   ]
  },
  {
   "cell_type": "code",
   "execution_count": 7,
   "id": "a5755c19",
   "metadata": {},
   "outputs": [
    {
     "name": "stdout",
     "output_type": "stream",
     "text": [
      "+----+-----+-----+-----+-----+---------+---------+-------+\n",
      "|Date| Open| High|  Low|Close|   Volume|Adj Close|newDate|\n",
      "+----+-----+-----+-----+-----+---------+---------+-------+\n",
      "|null|59.97|61.06|59.87|60.33|1.26688E7|52.619235|   null|\n",
      "|null|60.21|60.35|59.47|59.71|9593300.0|52.078475|   null|\n",
      "|null|59.35|59.62|58.37|59.42|1.27682E7|51.825539|   null|\n",
      "|null|59.42|59.45|58.87| 59.0|8069400.0| 51.45922|   null|\n",
      "|null|59.03|59.55|58.92|59.18|6679300.0|51.616215|   null|\n",
      "|null|59.43|59.71|58.98|59.04|6907300.0|51.494109|   null|\n",
      "|null|59.06|59.53|59.04| 59.4|6365600.0|51.808098|   null|\n",
      "|null|59.79| 60.0| 59.4| 59.5|7236400.0|51.895316|   null|\n",
      "|null|59.18|59.61|59.01|59.54|7729300.0|51.930204|   null|\n",
      "|null|59.87|60.11|59.52|59.85|8500000.0|52.200581|   null|\n",
      "|null|59.79|60.03|59.65|60.01|5911400.0|52.340131|   null|\n",
      "|null|59.93|60.73|59.75|60.61|9234600.0|52.863447|   null|\n",
      "|null|60.75|61.25|60.67|61.01|1.03788E7|53.212321|   null|\n",
      "|null|60.81|60.98|60.51|60.91|7134100.0|53.125104|   null|\n",
      "|null|60.75| 62.0|60.75|61.39|7362800.0|53.543754|   null|\n",
      "|null|61.18|61.61|61.04|61.47|5915800.0|53.613531|   null|\n",
      "|null| 61.8|61.84|60.77|60.97|7436200.0|53.177436|   null|\n",
      "|null|60.86|61.12|60.54|60.71|6287300.0|52.950665|   null|\n",
      "|null|60.47|61.32|60.35| 61.3|7636900.0|53.465257|   null|\n",
      "|null|61.53|61.57|60.58|61.36|9761500.0| 53.51759|   null|\n",
      "+----+-----+-----+-----+-----+---------+---------+-------+\n",
      "only showing top 20 rows\n",
      "\n"
     ]
    }
   ],
   "source": [
    "df.withColumn('newDate',df['Date']).show()"
   ]
  },
  {
   "cell_type": "code",
   "execution_count": 8,
   "id": "69ec527c",
   "metadata": {
    "scrolled": true
   },
   "outputs": [
    {
     "name": "stdout",
     "output_type": "stream",
     "text": [
      "+----+-----+-----+-----+-----+---------+---------+-----------+\n",
      "|Date| Open| High|  Low|Close|   Volume|Adj Close|Double-High|\n",
      "+----+-----+-----+-----+-----+---------+---------+-----------+\n",
      "|null|59.97|61.06|59.87|60.33|1.26688E7|52.619235|     122.12|\n",
      "|null|60.21|60.35|59.47|59.71|9593300.0|52.078475|      120.7|\n",
      "|null|59.35|59.62|58.37|59.42|1.27682E7|51.825539|     119.24|\n",
      "|null|59.42|59.45|58.87| 59.0|8069400.0| 51.45922|      118.9|\n",
      "|null|59.03|59.55|58.92|59.18|6679300.0|51.616215|      119.1|\n",
      "+----+-----+-----+-----+-----+---------+---------+-----------+\n",
      "only showing top 5 rows\n",
      "\n"
     ]
    }
   ],
   "source": [
    "# df.withColumn('Double-High',df['High']*2)\n",
    "df.withColumn('Double-High',df['High']*2).show(5)"
   ]
  },
  {
   "cell_type": "code",
   "execution_count": 9,
   "id": "8f9c3eb0",
   "metadata": {},
   "outputs": [
    {
     "name": "stdout",
     "output_type": "stream",
     "text": [
      "+----+-----+-----+-----+-----+---------+---------+\n",
      "|Date| Open|Large|  Low|Close|   Volume|Adj Close|\n",
      "+----+-----+-----+-----+-----+---------+---------+\n",
      "|null|59.97|61.06|59.87|60.33|1.26688E7|52.619235|\n",
      "|null|60.21|60.35|59.47|59.71|9593300.0|52.078475|\n",
      "|null|59.35|59.62|58.37|59.42|1.27682E7|51.825539|\n",
      "|null|59.42|59.45|58.87| 59.0|8069400.0| 51.45922|\n",
      "|null|59.03|59.55|58.92|59.18|6679300.0|51.616215|\n",
      "+----+-----+-----+-----+-----+---------+---------+\n",
      "only showing top 5 rows\n",
      "\n"
     ]
    }
   ],
   "source": [
    "df.withColumnRenamed(\"High\",\"Large\").show(5)"
   ]
  },
  {
   "cell_type": "code",
   "execution_count": 10,
   "id": "cc38208f",
   "metadata": {},
   "outputs": [
    {
     "name": "stdout",
     "output_type": "stream",
     "text": [
      "+-----+-----+\n",
      "| Open|Close|\n",
      "+-----+-----+\n",
      "|59.97|60.33|\n",
      "|60.21|59.71|\n",
      "|59.35|59.42|\n",
      "|59.42| 59.0|\n",
      "|59.03|59.18|\n",
      "+-----+-----+\n",
      "only showing top 5 rows\n",
      "\n",
      "+-----+-----+\n",
      "|Close| Open|\n",
      "+-----+-----+\n",
      "|60.33|59.97|\n",
      "|59.71|60.21|\n",
      "|59.42|59.35|\n",
      "|59.18|59.03|\n",
      "|59.04|59.43|\n",
      "+-----+-----+\n",
      "only showing top 5 rows\n",
      "\n"
     ]
    }
   ],
   "source": [
    "# Filter some value and select only couple of columns and show them\n",
    "df.filter('Open>59').select('Open','Close').show(5)\n",
    "\n",
    "# same as filtering on the df as below\n",
    "\n",
    "df.filter(df['Close']>59).select('Close','Open').show(5)"
   ]
  },
  {
   "cell_type": "code",
   "execution_count": 11,
   "id": "2ab149cd",
   "metadata": {},
   "outputs": [
    {
     "name": "stdout",
     "output_type": "stream",
     "text": [
      "+-----+-----+\n",
      "|Close| Open|\n",
      "+-----+-----+\n",
      "|59.08|58.84|\n",
      "|59.01|58.99|\n",
      "| 59.4|58.96|\n",
      "|59.07|58.95|\n",
      "|59.01|58.96|\n",
      "|59.19|58.55|\n",
      "|59.03|58.48|\n",
      "|59.35|58.95|\n",
      "|59.04|58.69|\n",
      "|59.55|58.82|\n",
      "+-----+-----+\n",
      "\n"
     ]
    }
   ],
   "source": [
    "df.filter((df['Close']>59) & (df['Open']<59)).select('Close','Open').show()"
   ]
  },
  {
   "cell_type": "code",
   "execution_count": 12,
   "id": "b049b351",
   "metadata": {
    "scrolled": false
   },
   "outputs": [
    {
     "name": "stdout",
     "output_type": "stream",
     "text": [
      "+----+-----+-----+-----+-----+---------+---------+\n",
      "|Date| Open| High|  Low|Close|   Volume|Adj Close|\n",
      "+----+-----+-----+-----+-----+---------+---------+\n",
      "|null|59.97|61.06|59.87|60.33|1.26688E7|52.619235|\n",
      "+----+-----+-----+-----+-----+---------+---------+\n",
      "\n"
     ]
    }
   ],
   "source": [
    "result=df.filter(df['Adj Close']==52.619235).show()"
   ]
  },
  {
   "cell_type": "code",
   "execution_count": 13,
   "id": "2ee8fcde",
   "metadata": {},
   "outputs": [],
   "source": [
    "# Take a row and do operations\n",
    "result=df"
   ]
  },
  {
   "cell_type": "code",
   "execution_count": 14,
   "id": "ccdcd6d0",
   "metadata": {},
   "outputs": [
    {
     "data": {
      "text/html": [
       "<table border='1'>\n",
       "<tr><th>Date</th><th>Open</th><th>High</th><th>Low</th><th>Close</th><th>Volume</th><th>Adj Close</th></tr>\n",
       "<tr><td>null</td><td>59.97</td><td>61.06</td><td>59.87</td><td>60.33</td><td>1.26688E7</td><td>52.619235</td></tr>\n",
       "<tr><td>null</td><td>60.21</td><td>60.35</td><td>59.47</td><td>59.71</td><td>9593300.0</td><td>52.078475</td></tr>\n",
       "<tr><td>null</td><td>59.35</td><td>59.62</td><td>58.37</td><td>59.42</td><td>1.27682E7</td><td>51.825539</td></tr>\n",
       "<tr><td>null</td><td>59.42</td><td>59.45</td><td>58.87</td><td>59.0</td><td>8069400.0</td><td>51.45922</td></tr>\n",
       "<tr><td>null</td><td>59.03</td><td>59.55</td><td>58.92</td><td>59.18</td><td>6679300.0</td><td>51.616215</td></tr>\n",
       "<tr><td>null</td><td>59.43</td><td>59.71</td><td>58.98</td><td>59.04</td><td>6907300.0</td><td>51.494109</td></tr>\n",
       "<tr><td>null</td><td>59.06</td><td>59.53</td><td>59.04</td><td>59.4</td><td>6365600.0</td><td>51.808098</td></tr>\n",
       "<tr><td>null</td><td>59.79</td><td>60.0</td><td>59.4</td><td>59.5</td><td>7236400.0</td><td>51.895316</td></tr>\n",
       "<tr><td>null</td><td>59.18</td><td>59.61</td><td>59.01</td><td>59.54</td><td>7729300.0</td><td>51.930204</td></tr>\n",
       "<tr><td>null</td><td>59.87</td><td>60.11</td><td>59.52</td><td>59.85</td><td>8500000.0</td><td>52.200581</td></tr>\n",
       "<tr><td>null</td><td>59.79</td><td>60.03</td><td>59.65</td><td>60.01</td><td>5911400.0</td><td>52.340131</td></tr>\n",
       "<tr><td>null</td><td>59.93</td><td>60.73</td><td>59.75</td><td>60.61</td><td>9234600.0</td><td>52.863447</td></tr>\n",
       "<tr><td>null</td><td>60.75</td><td>61.25</td><td>60.67</td><td>61.01</td><td>1.03788E7</td><td>53.212321</td></tr>\n",
       "<tr><td>null</td><td>60.81</td><td>60.98</td><td>60.51</td><td>60.91</td><td>7134100.0</td><td>53.125104</td></tr>\n",
       "<tr><td>null</td><td>60.75</td><td>62.0</td><td>60.75</td><td>61.39</td><td>7362800.0</td><td>53.543754</td></tr>\n",
       "<tr><td>null</td><td>61.18</td><td>61.61</td><td>61.04</td><td>61.47</td><td>5915800.0</td><td>53.613531</td></tr>\n",
       "<tr><td>null</td><td>61.8</td><td>61.84</td><td>60.77</td><td>60.97</td><td>7436200.0</td><td>53.177436</td></tr>\n",
       "<tr><td>null</td><td>60.86</td><td>61.12</td><td>60.54</td><td>60.71</td><td>6287300.0</td><td>52.950665</td></tr>\n",
       "<tr><td>null</td><td>60.47</td><td>61.32</td><td>60.35</td><td>61.3</td><td>7636900.0</td><td>53.465257</td></tr>\n",
       "<tr><td>null</td><td>61.53</td><td>61.57</td><td>60.58</td><td>61.36</td><td>9761500.0</td><td>53.51759</td></tr>\n",
       "</table>\n",
       "only showing top 20 rows\n"
      ],
      "text/plain": [
       "+----+-----+-----+-----+-----+---------+---------+\n",
       "|Date| Open| High|  Low|Close|   Volume|Adj Close|\n",
       "+----+-----+-----+-----+-----+---------+---------+\n",
       "|null|59.97|61.06|59.87|60.33|1.26688E7|52.619235|\n",
       "|null|60.21|60.35|59.47|59.71|9593300.0|52.078475|\n",
       "|null|59.35|59.62|58.37|59.42|1.27682E7|51.825539|\n",
       "|null|59.42|59.45|58.87| 59.0|8069400.0| 51.45922|\n",
       "|null|59.03|59.55|58.92|59.18|6679300.0|51.616215|\n",
       "|null|59.43|59.71|58.98|59.04|6907300.0|51.494109|\n",
       "|null|59.06|59.53|59.04| 59.4|6365600.0|51.808098|\n",
       "|null|59.79| 60.0| 59.4| 59.5|7236400.0|51.895316|\n",
       "|null|59.18|59.61|59.01|59.54|7729300.0|51.930204|\n",
       "|null|59.87|60.11|59.52|59.85|8500000.0|52.200581|\n",
       "|null|59.79|60.03|59.65|60.01|5911400.0|52.340131|\n",
       "|null|59.93|60.73|59.75|60.61|9234600.0|52.863447|\n",
       "|null|60.75|61.25|60.67|61.01|1.03788E7|53.212321|\n",
       "|null|60.81|60.98|60.51|60.91|7134100.0|53.125104|\n",
       "|null|60.75| 62.0|60.75|61.39|7362800.0|53.543754|\n",
       "|null|61.18|61.61|61.04|61.47|5915800.0|53.613531|\n",
       "|null| 61.8|61.84|60.77|60.97|7436200.0|53.177436|\n",
       "|null|60.86|61.12|60.54|60.71|6287300.0|52.950665|\n",
       "|null|60.47|61.32|60.35| 61.3|7636900.0|53.465257|\n",
       "|null|61.53|61.57|60.58|61.36|9761500.0| 53.51759|\n",
       "+----+-----+-----+-----+-----+---------+---------+\n",
       "only showing top 20 rows"
      ]
     },
     "execution_count": 14,
     "metadata": {},
     "output_type": "execute_result"
    }
   ],
   "source": [
    "df"
   ]
  },
  {
   "cell_type": "code",
   "execution_count": 15,
   "id": "d3255efb",
   "metadata": {
    "scrolled": true
   },
   "outputs": [
    {
     "data": {
      "text/plain": [
       "[Row(Date=None, Open=59.97, High=61.06, Low=59.87, Close=60.33, Volume=12668800.0, Adj Close=52.619235),\n",
       " Row(Date=None, Open=60.21, High=60.35, Low=59.47, Close=59.71, Volume=9593300.0, Adj Close=52.078475)]"
      ]
     },
     "execution_count": 15,
     "metadata": {},
     "output_type": "execute_result"
    }
   ],
   "source": [
    "df.head(2)"
   ]
  },
  {
   "cell_type": "code",
   "execution_count": 16,
   "id": "e730bf37",
   "metadata": {},
   "outputs": [],
   "source": [
    "df.head(2)[0]\n",
    "df.head(2)[0][0]"
   ]
  },
  {
   "cell_type": "code",
   "execution_count": 18,
   "id": "3785c579",
   "metadata": {},
   "outputs": [
    {
     "ename": "NameError",
     "evalue": "name 'current_date' is not defined",
     "output_type": "error",
     "traceback": [
      "\u001b[1;31m---------------------------------------------------------------------------\u001b[0m",
      "\u001b[1;31mNameError\u001b[0m                                 Traceback (most recent call last)",
      "\u001b[1;32mC:\\Users\\NILAKA~1\\AppData\\Local\\Temp/ipykernel_32120/4243683237.py\u001b[0m in \u001b[0;36m<module>\u001b[1;34m\u001b[0m\n\u001b[1;32m----> 1\u001b[1;33m \u001b[0mdf\u001b[0m\u001b[1;33m.\u001b[0m\u001b[0mwithColumn\u001b[0m\u001b[1;33m(\u001b[0m\u001b[1;34m\"current_date\"\u001b[0m\u001b[1;33m,\u001b[0m\u001b[0mcurrent_date\u001b[0m\u001b[1;33m(\u001b[0m\u001b[1;33m)\u001b[0m\u001b[1;33m)\u001b[0m\u001b[0;31m \u001b[0m\u001b[0;31m\\\u001b[0m\u001b[1;33m\u001b[0m\u001b[1;33m\u001b[0m\u001b[0m\n\u001b[0m\u001b[0;32m      2\u001b[0m   \u001b[1;33m.\u001b[0m\u001b[0mwithColumn\u001b[0m\u001b[1;33m(\u001b[0m\u001b[1;34m\"current_timestamp\"\u001b[0m\u001b[1;33m,\u001b[0m\u001b[0mcurrent_timestamp\u001b[0m\u001b[1;33m(\u001b[0m\u001b[1;33m)\u001b[0m\u001b[1;33m)\u001b[0m\u001b[0;31m \u001b[0m\u001b[0;31m\\\u001b[0m\u001b[1;33m\u001b[0m\u001b[1;33m\u001b[0m\u001b[0m\n\u001b[0;32m      3\u001b[0m   \u001b[1;33m.\u001b[0m\u001b[0mshow\u001b[0m\u001b[1;33m(\u001b[0m\u001b[0mtruncate\u001b[0m\u001b[1;33m=\u001b[0m\u001b[1;32mFalse\u001b[0m\u001b[1;33m)\u001b[0m\u001b[1;33m\u001b[0m\u001b[1;33m\u001b[0m\u001b[0m\n",
      "\u001b[1;31mNameError\u001b[0m: name 'current_date' is not defined"
     ]
    }
   ],
   "source": [
    "df.withColumn(\"current_date\",current_date()) \\\n",
    "  .withColumn(\"current_timestamp\",current_timestamp()) \\\n",
    "  .show(truncate=False)\n"
   ]
  }
 ],
 "metadata": {
  "kernelspec": {
   "display_name": "Python 3 (ipykernel)",
   "language": "python",
   "name": "python3"
  },
  "language_info": {
   "codemirror_mode": {
    "name": "ipython",
    "version": 3
   },
   "file_extension": ".py",
   "mimetype": "text/x-python",
   "name": "python",
   "nbconvert_exporter": "python",
   "pygments_lexer": "ipython3",
   "version": "3.9.7"
  }
 },
 "nbformat": 4,
 "nbformat_minor": 5
}
