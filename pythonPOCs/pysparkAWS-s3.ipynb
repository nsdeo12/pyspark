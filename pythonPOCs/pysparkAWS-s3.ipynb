{
 "cells": [
  {
   "cell_type": "code",
   "execution_count": 5,
   "id": "b5a20278",
   "metadata": {},
   "outputs": [
    {
     "name": "stderr",
     "output_type": "stream",
     "text": [
      "    ERROR: Command errored out with exit status 1:\n",
      "     command: 'C:\\ProgramData\\Anaconda3\\python.exe' -c 'import io, os, sys, setuptools, tokenize; sys.argv[0] = '\"'\"'C:\\\\Users\\\\Nilakantha\\\\AppData\\\\Local\\\\Temp\\\\pip-install-sbuk9fwu\\\\logging_a899962bfe034c559a61354392bf4988\\\\setup.py'\"'\"'; __file__='\"'\"'C:\\\\Users\\\\Nilakantha\\\\AppData\\\\Local\\\\Temp\\\\pip-install-sbuk9fwu\\\\logging_a899962bfe034c559a61354392bf4988\\\\setup.py'\"'\"';f = getattr(tokenize, '\"'\"'open'\"'\"', open)(__file__) if os.path.exists(__file__) else io.StringIO('\"'\"'from setuptools import setup; setup()'\"'\"');code = f.read().replace('\"'\"'\\r\\n'\"'\"', '\"'\"'\\n'\"'\"');f.close();exec(compile(code, __file__, '\"'\"'exec'\"'\"'))' egg_info --egg-base 'C:\\Users\\Nilakantha\\AppData\\Local\\Temp\\pip-pip-egg-info-bbacnuy7'\n",
      "         cwd: C:\\Users\\Nilakantha\\AppData\\Local\\Temp\\pip-install-sbuk9fwu\\logging_a899962bfe034c559a61354392bf4988\\\n",
      "    Complete output (26 lines):\n",
      "    Traceback (most recent call last):\n",
      "      File \"<string>\", line 1, in <module>\n",
      "      File \"C:\\ProgramData\\Anaconda3\\lib\\site-packages\\setuptools\\__init__.py\", line 18, in <module>\n",
      "        from setuptools.dist import Distribution\n",
      "      File \"C:\\ProgramData\\Anaconda3\\lib\\site-packages\\setuptools\\dist.py\", line 32, in <module>\n",
      "        from setuptools.extern.more_itertools import unique_everseen\n",
      "      File \"<frozen importlib._bootstrap>\", line 1007, in _find_and_load\n",
      "      File \"<frozen importlib._bootstrap>\", line 986, in _find_and_load_unlocked\n",
      "      File \"<frozen importlib._bootstrap>\", line 666, in _load_unlocked\n",
      "      File \"<frozen importlib._bootstrap>\", line 565, in module_from_spec\n",
      "      File \"C:\\ProgramData\\Anaconda3\\lib\\site-packages\\setuptools\\extern\\__init__.py\", line 52, in create_module\n"
     ]
    },
    {
     "name": "stdout",
     "output_type": "stream",
     "text": [
      "Collecting logging\n",
      "  Using cached logging-0.4.9.6.tar.gz (96 kB)\n"
     ]
    },
    {
     "name": "stderr",
     "output_type": "stream",
     "text": [
      "        return self.load_module(spec.name)\n",
      "      File \"C:\\ProgramData\\Anaconda3\\lib\\site-packages\\setuptools\\extern\\__init__.py\", line 37, in load_module\n",
      "        __import__(extant)\n",
      "      File \"C:\\ProgramData\\Anaconda3\\lib\\site-packages\\setuptools\\_vendor\\more_itertools\\__init__.py\", line 1, in <module>\n",
      "        from .more import *  # noqa\n",
      "      File \"C:\\ProgramData\\Anaconda3\\lib\\site-packages\\setuptools\\_vendor\\more_itertools\\more.py\", line 5, in <module>\n",
      "        from concurrent.futures import ThreadPoolExecutor\n",
      "      File \"C:\\ProgramData\\Anaconda3\\lib\\concurrent\\futures\\__init__.py\", line 8, in <module>\n",
      "        from concurrent.futures._base import (FIRST_COMPLETED,\n",
      "      File \"C:\\ProgramData\\Anaconda3\\lib\\concurrent\\futures\\_base.py\", line 7, in <module>\n",
      "        import logging\n",
      "      File \"C:\\Users\\Nilakantha\\AppData\\Local\\Temp\\pip-install-sbuk9fwu\\logging_a899962bfe034c559a61354392bf4988\\logging\\__init__.py\", line 618\n",
      "        raise NotImplementedError, 'emit must be implemented '\\\n",
      "                                 ^\n",
      "    SyntaxError: invalid syntax\n",
      "    ----------------------------------------\n",
      "WARNING: Discarding https://files.pythonhosted.org/packages/93/4b/979db9e44be09f71e85c9c8cfc42f258adfb7d93ce01deed2788b2948919/logging-0.4.9.6.tar.gz#sha256=26f6b50773f085042d301085bd1bf5d9f3735704db9f37c1ce6d8b85c38f2417 (from https://pypi.org/simple/logging/). Command errored out with exit status 1: python setup.py egg_info Check the logs for full command output.\n",
      "ERROR: Could not find a version that satisfies the requirement logging (from versions: 0.4.9.6)\n",
      "ERROR: No matching distribution found for logging\n"
     ]
    }
   ],
   "source": [
    "import sys\n",
    "!{sys.executable} -m pip install logging"
   ]
  },
  {
   "cell_type": "code",
   "execution_count": 4,
   "id": "fc30edab",
   "metadata": {},
   "outputs": [
    {
     "ename": "ModuleNotFoundError",
     "evalue": "No module named 'boto3'",
     "output_type": "error",
     "traceback": [
      "\u001b[1;31m---------------------------------------------------------------------------\u001b[0m",
      "\u001b[1;31mModuleNotFoundError\u001b[0m                       Traceback (most recent call last)",
      "\u001b[1;32mC:\\Users\\NILAKA~1\\AppData\\Local\\Temp/ipykernel_18808/3890205690.py\u001b[0m in \u001b[0;36m<module>\u001b[1;34m\u001b[0m\n\u001b[0;32m      1\u001b[0m \u001b[1;32mimport\u001b[0m \u001b[0mlogging\u001b[0m\u001b[1;33m\u001b[0m\u001b[1;33m\u001b[0m\u001b[0m\n\u001b[1;32m----> 2\u001b[1;33m \u001b[1;32mimport\u001b[0m \u001b[0mboto3\u001b[0m\u001b[1;33m\u001b[0m\u001b[1;33m\u001b[0m\u001b[0m\n\u001b[0m\u001b[0;32m      3\u001b[0m \u001b[1;32mfrom\u001b[0m \u001b[0mbotocare\u001b[0m\u001b[1;33m.\u001b[0m\u001b[0mexceptions\u001b[0m \u001b[1;32mimport\u001b[0m \u001b[0mClientError\u001b[0m\u001b[1;33m\u001b[0m\u001b[1;33m\u001b[0m\u001b[0m\n\u001b[0;32m      4\u001b[0m \u001b[1;33m\u001b[0m\u001b[0m\n\u001b[0;32m      5\u001b[0m \u001b[1;32mdef\u001b[0m \u001b[0mcreate_bucket\u001b[0m\u001b[1;33m(\u001b[0m\u001b[0mbucket_name\u001b[0m\u001b[1;33m,\u001b[0m \u001b[0mregion\u001b[0m\u001b[1;33m=\u001b[0m\u001b[1;32mNone\u001b[0m\u001b[1;33m)\u001b[0m\u001b[1;33m:\u001b[0m\u001b[1;33m\u001b[0m\u001b[1;33m\u001b[0m\u001b[0m\n",
      "\u001b[1;31mModuleNotFoundError\u001b[0m: No module named 'boto3'"
     ]
    }
   ],
   "source": [
    "import logging\n",
    "import boto3\n",
    "from botocare.exceptions import ClientError\n",
    "\n",
    "def create_bucket(bucket_name, region=None):\n",
    "    \"\"\"Create an S3 bucket in a specified region\n",
    "\n",
    "    If a region is not specified, the bucket is created in the S3 default\n",
    "    region (us-east-1).\n",
    "\n",
    "    :param bucket_name: Bucket to create\n",
    "    :param region: String region to create bucket in, e.g., 'us-west-2'\n",
    "    :return: True if bucket created, else False\n",
    "    \"\"\"\n",
    "\n",
    "    # Create bucket\n",
    "    try:\n",
    "        if region is None:\n",
    "            s3_client = boto3.client('s3')\n",
    "            s3_client.create_bucket(Bucket=bucket_name)\n",
    "            print(\"inside if\")\n",
    "        else:\n",
    "            s3_client = boto3.client('s3', region_name=region)\n",
    "            location = {'LocationConstraint': region}\n",
    "            s3_client.create_bucket(Bucket=bucket_name,\n",
    "                                    CreateBucketConfiguration=location)\n",
    "            print(\"inside else\")\n",
    "    except ClientError as e:\n",
    "        logging.error(e)\n",
    "        print(\"error\",e)\n",
    "        return False\n",
    "    return True\n",
    "create_bucket(\"citibike-aws-junen\",\"Mumbai\")"
   ]
  },
  {
   "cell_type": "code",
   "execution_count": null,
   "id": "fb1a85d4",
   "metadata": {},
   "outputs": [],
   "source": []
  }
 ],
 "metadata": {
  "kernelspec": {
   "display_name": "Python 3 (ipykernel)",
   "language": "python",
   "name": "python3"
  },
  "language_info": {
   "codemirror_mode": {
    "name": "ipython",
    "version": 3
   },
   "file_extension": ".py",
   "mimetype": "text/x-python",
   "name": "python",
   "nbconvert_exporter": "python",
   "pygments_lexer": "ipython3",
   "version": "3.9.7"
  }
 },
 "nbformat": 4,
 "nbformat_minor": 5
}
