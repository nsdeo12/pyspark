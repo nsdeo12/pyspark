{
 "cells": [
  {
   "cell_type": "code",
   "execution_count": 1,
   "metadata": {},
   "outputs": [
    {
     "name": "stdout",
     "output_type": "stream",
     "text": [
      "10 edureka!\n",
      "10\n",
      "20\n",
      "30\n"
     ]
    }
   ],
   "source": [
    "A=10\n",
    "B='edureka!'\n",
    "\n",
    "print(A,B)\n",
    "\n",
    "\n",
    "#another example\n",
    "\n",
    "x,y,z=10,20,30\n",
    "\n",
    "print(x)\n",
    "print(y)\n",
    "print(z)"
   ]
  },
  {
   "cell_type": "code",
   "execution_count": null,
   "metadata": {},
   "outputs": [],
   "source": [
    "a=10\n",
    "b=20\n",
    "c=10+6j\n",
    "print(a,b,c)"
   ]
  },
  {
   "cell_type": "code",
   "execution_count": null,
   "metadata": {
    "collapsed": true
   },
   "outputs": [],
   "source": [
    "str1='welcome'\n",
    "str2=\"to\"\n",
    "str3=\"\"\"Edureka\"\"\""
   ]
  },
  {
   "cell_type": "code",
   "execution_count": null,
   "metadata": {},
   "outputs": [],
   "source": [
    "string=\"Python\"\n",
    "print(string)\n",
    "print(len(string))\n",
    "print(string[1:3])\n",
    "print('t' in string)"
   ]
  },
  {
   "cell_type": "code",
   "execution_count": null,
   "metadata": {},
   "outputs": [],
   "source": [
    "str= 'edureka'\n",
    "print(str.capitalize())\n",
    "print(str.count(\"ka\",0,len(str)))\n",
    "s=str.encode('utf-8','strict')\n",
    "print(s)"
   ]
  },
  {
   "cell_type": "code",
   "execution_count": null,
   "metadata": {},
   "outputs": [],
   "source": [
    "Str=\"edureka\"\n",
    "print(max(str))\n",
    "print(min(str))"
   ]
  },
  {
   "cell_type": "code",
   "execution_count": null,
   "metadata": {},
   "outputs": [],
   "source": [
    "Str=\"edureka\"\n",
    "print(str.replace('e','--E--',1))\n",
    "print(str.upper())\n",
    "print(str.index('k'))"
   ]
  },
  {
   "cell_type": "code",
   "execution_count": null,
   "metadata": {},
   "outputs": [],
   "source": [
    "str1=\"HappyLearning\"\n",
    "print(str1[::])\n",
    "print(str1[::-1])\n",
    "print(str1[::-2])\n",
    "print(str1[::-3])\n",
    "print('------------------')\n",
    "print(str1[2:7])\n",
    "print(str1.find('L'))\n",
    "str2=\"Welcome to Edureka\"\n",
    "print(str1+str2)\n",
    "print(str1*2)"
   ]
  },
  {
   "cell_type": "code",
   "execution_count": null,
   "metadata": {},
   "outputs": [],
   "source": [
    "tup1=(\"Hadoop\",\"Python\",\"Java\")\n",
    "print(len(tup1))\n",
    "print(max(tup1))\n",
    "print(min(tup1))\n"
   ]
  },
  {
   "cell_type": "code",
   "execution_count": null,
   "metadata": {},
   "outputs": [],
   "source": [
    "tup=(1,3,5,2)\n",
    "print(sorted(tup))\n",
    "print(tup[::-1])"
   ]
  },
  {
   "cell_type": "code",
   "execution_count": null,
   "metadata": {},
   "outputs": [],
   "source": [
    "tup1=(\"Hadoop\",\"Python\",\"Java\")\n",
    "print(len(tup1))\n",
    "print(tup1*2)\n",
    "print(\"Java\" in tup1)"
   ]
  },
  {
   "cell_type": "code",
   "execution_count": null,
   "metadata": {},
   "outputs": [],
   "source": [
    "tup2=(1,3,5,7)\n",
    "tup3=(2,4,6,8)\n",
    "tup4=tup2+tup3\n",
    "print(tup4)\n",
    "#uncomment next line\n",
    "#del(tup2)\n",
    "print(tup2)"
   ]
  },
  {
   "cell_type": "code",
   "execution_count": null,
   "metadata": {},
   "outputs": [],
   "source": [
    "list1=[1,2,'Python','Android']\n",
    "print(list1)\n",
    "list1[2]='Data Science'\n",
    "print(list1)\n",
    "tup=(1,2,3,'Data Science')\n",
    "print(tup)\n",
    "#uncomment next line\n",
    "#tup[1]='Python'\n",
    "print(tup)"
   ]
  },
  {
   "cell_type": "code",
   "execution_count": null,
   "metadata": {},
   "outputs": [],
   "source": [
    "tup=([1,2,3],[3,4,5],[5,6,7])\n",
    "print(tup)\n",
    "print(len(tup))\n",
    "print(tup[0][0:2])"
   ]
  },
  {
   "cell_type": "code",
   "execution_count": null,
   "metadata": {},
   "outputs": [],
   "source": [
    "tup=([1,2,3],[3,4,5],[5,6,7])\n",
    "print(tup)\n",
    "print(len(tup))\n",
    "print(tup[0][0:2])"
   ]
  },
  {
   "cell_type": "code",
   "execution_count": null,
   "metadata": {},
   "outputs": [],
   "source": [
    "tup=([1,2,3],[3,4,5],[5,6,7])\n",
    "print(tup)\n",
    "print(len(tup))\n",
    "print(tup[0][1])\n",
    "#Updating Tuple\n",
    "tup[0][1]=90\n",
    "print(tup)\n",
    "#Deleting element in Tuple\n",
    "del(tup[1][2])\n",
    "print(tup)"
   ]
  },
  {
   "cell_type": "code",
   "execution_count": null,
   "metadata": {},
   "outputs": [],
   "source": [
    "tuple1=(1,2,3,5,7,'a','b')\n",
    "lst=[1,2,3,5,7,'a','b']\n",
    "lst[1]='Python'\n",
    "print(lst)\n",
    "tuple2=tuple(lst)\n",
    "print(tuple2)"
   ]
  },
  {
   "cell_type": "code",
   "execution_count": null,
   "metadata": {},
   "outputs": [],
   "source": [
    "# Python code to convert list of tuple into list\n",
    "  \n",
    "# List of tuple initialization\n",
    "tup = [1, 2, 3, 5, 7,'a','b']\n",
    "  \n",
    "# result list initialization\n",
    "result = []\n",
    "  \n",
    "for t in tup:\n",
    "        result.append(t)\n",
    "  \n",
    "\n",
    "print(result)"
   ]
  },
  {
   "cell_type": "code",
   "execution_count": null,
   "metadata": {},
   "outputs": [],
   "source": [
    "list=[\"Hadoop\",\"Python\",\"Android\"]\n",
    "print(list[1])\n",
    "print(list[0:2])\n",
    "print(list[-1])"
   ]
  },
  {
   "cell_type": "code",
   "execution_count": null,
   "metadata": {},
   "outputs": [],
   "source": [
    "list=[\"Hadoop\",\"Python\",\"Android\"]\n",
    "list[1]=\"Java\"\n",
    "print(list)\n",
    "del(list[2])\n",
    "print(list)\n"
   ]
  },
  {
   "cell_type": "code",
   "execution_count": null,
   "metadata": {},
   "outputs": [],
   "source": [
    "list=[1,2,3,4,5,'a','b','c']\n",
    "print(list.pop(3))\n",
    "list.remove('a')\n",
    "print(list)"
   ]
  },
  {
   "cell_type": "code",
   "execution_count": null,
   "metadata": {},
   "outputs": [],
   "source": [
    "list3=[1,2,5,'Python','Hadoop']\n",
    "print(type(list3))\n",
    "print([x**2 for x in[1,2,3,4,5]])"
   ]
  },
  {
   "cell_type": "code",
   "execution_count": null,
   "metadata": {},
   "outputs": [],
   "source": [
    "list=[1,2,3]\n",
    "list.append(\"Machine Learning\")\n",
    "print(list)\n",
    "list.extend(['g','h'])\n",
    "print(list)\n",
    "list.insert(1,'Scripting')\n",
    "print(list)\n",
    "list.remove(3)\n",
    "print(list)\n"
   ]
  },
  {
   "cell_type": "code",
   "execution_count": null,
   "metadata": {},
   "outputs": [],
   "source": [
    "list1=['Python','XYZ','ABC','PQR']\n",
    "print(list1)\n",
    "print(sorted(list1))\n",
    "print(list1[::-1])"
   ]
  },
  {
   "cell_type": "code",
   "execution_count": null,
   "metadata": {},
   "outputs": [],
   "source": [
    "list=[(1,2,3),(\"Python\",\"Java\")]\n",
    "print(list)\n",
    "print(len(list))\n",
    "print(list[1][0:1])"
   ]
  },
  {
   "cell_type": "code",
   "execution_count": null,
   "metadata": {},
   "outputs": [],
   "source": [
    "list=[(1,2,3),(\"Python\",\"Java\")]\n",
    "print(list)\n",
    "print(len(list))\n",
    "print(list[1][0:1])"
   ]
  },
  {
   "cell_type": "code",
   "execution_count": null,
   "metadata": {},
   "outputs": [],
   "source": [
    "list=[(1,2,3),(\"Python\",\"Java\")]\n",
    "print(list)\n",
    "print(len(list))\n",
    "print(list[1][0:1])\n",
    "list[0][1]=50\n",
    "print(list)\n"
   ]
  },
  {
   "cell_type": "code",
   "execution_count": null,
   "metadata": {},
   "outputs": [],
   "source": [
    "dict={1:\"Python\",2:\"Android\"}\n",
    "print(dict)\n",
    "print(dict[1])"
   ]
  },
  {
   "cell_type": "code",
   "execution_count": null,
   "metadata": {},
   "outputs": [],
   "source": [
    "dict={1:\"Python\",2:\"Android\"}\n",
    "print(dict[1])\n",
    "dict[1]=\"Javascript\"\n",
    "print(dict)\n",
    "del(dict[2])\n",
    "print(dict)\n"
   ]
  },
  {
   "cell_type": "code",
   "execution_count": null,
   "metadata": {},
   "outputs": [],
   "source": [
    "dict1={1:'Python',2:'Android'}\n",
    "print(len(dict1))\n",
    "print(dict)\n",
    "#print(str(dict))\n",
    "print(type(dict))\n"
   ]
  },
  {
   "cell_type": "code",
   "execution_count": null,
   "metadata": {},
   "outputs": [],
   "source": [
    "rec = {'name': {'first': 'Bob','last': 'smith'}, 'jobs': ['dev','mgr'],'age': 40.5}\n",
    "print(rec.get('name'))\n"
   ]
  },
  {
   "cell_type": "code",
   "execution_count": null,
   "metadata": {},
   "outputs": [],
   "source": [
    "dict1={1:'Python',2:'Android'}\n",
    "print(dict1.items())\n",
    "print(dict1.keys())\n",
    "print(dict1.values())\n",
    "print(dict1.setdefault(1,4))"
   ]
  },
  {
   "cell_type": "code",
   "execution_count": null,
   "metadata": {},
   "outputs": [],
   "source": [
    "dict={1:\"Python\",2:\"Android\"}\n",
    "print(dict.copy())\n",
    "dict.clear()\n",
    "print(dict)"
   ]
  },
  {
   "cell_type": "code",
   "execution_count": null,
   "metadata": {},
   "outputs": [],
   "source": [
    "dic={3:'Python',1:'Java',2:'Big Data'}\n",
    "ks=dic.keys()\n",
    "print(ks)\n",
    "sk=sorted(ks)\n",
    "print(sk)\n",
    "for key in sk:\n",
    "    print(key,'=>',dic[key])"
   ]
  },
  {
   "cell_type": "code",
   "execution_count": null,
   "metadata": {},
   "outputs": [],
   "source": [
    "#tuple in set\n",
    "dict={1:(1,2,3),2:(3,4,5)}\n",
    "print(dict)\n",
    "print(dict[1][1])\n",
    "#list in set\n",
    "dict={1:[\"Python\",\"Java\"],2:[1,3,5,7]}\n",
    "print(dict)\n",
    "print(dict[1][0])\n"
   ]
  },
  {
   "cell_type": "code",
   "execution_count": null,
   "metadata": {},
   "outputs": [],
   "source": [
    "x = set('Welcome to Edureka')\n",
    "print(x)"
   ]
  },
  {
   "cell_type": "code",
   "execution_count": null,
   "metadata": {},
   "outputs": [],
   "source": [
    "A = {1,2,3,4}\n",
    "B = {4,5,6,7}\n",
    "print (A | B)"
   ]
  },
  {
   "cell_type": "code",
   "execution_count": null,
   "metadata": {},
   "outputs": [],
   "source": [
    "A = {1,2,3,4}\n",
    "B = {4,5,6,7}\n",
    "print (A & B)"
   ]
  },
  {
   "cell_type": "code",
   "execution_count": null,
   "metadata": {},
   "outputs": [],
   "source": [
    "A = {1,2,3,4}\n",
    "B = {4,5,6,7}\n",
    "print (A - B)"
   ]
  },
  {
   "cell_type": "code",
   "execution_count": null,
   "metadata": {},
   "outputs": [],
   "source": [
    "set1={'a','b','d','o','v' }\n",
    "set2={'a','c','d','o','e' }\n",
    "print(set1 | set2)\n",
    "print(set1 & set2)\n",
    "print(set1 - set2)\n"
   ]
  },
  {
   "cell_type": "code",
   "execution_count": null,
   "metadata": {},
   "outputs": [],
   "source": [
    "s={1,2,3,'a''b'}\n",
    "set1={1,'a','b'}\n",
    "print(1 in s)\n",
    "print(set1.issubset(s))\n",
    "print(5 not in s)\n",
    "print(s.issuperset(set1))\n",
    "print(s.union(set1))\n",
    "print(s.intersection(set1))\n",
    "print(s.difference(set1))\n",
    "print(s.symmetric_difference(set1))"
   ]
  },
  {
   "cell_type": "code",
   "execution_count": null,
   "metadata": {},
   "outputs": [],
   "source": [
    "s={1,2,3,'a','b'}\n",
    "s.add('c')\n",
    "print(s)\n",
    "s.remove(1)\n",
    "print(s)\n",
    "s.discard(3)\n",
    "print(s)\n",
    "s.pop()\n",
    "print(s)\n",
    "s.clear()\n",
    "print(s)"
   ]
  },
  {
   "cell_type": "code",
   "execution_count": null,
   "metadata": {},
   "outputs": [],
   "source": [
    "X=10\n",
    "Y=12\n",
    "if(X<Y):\n",
    "    print('X is less than Y')\n",
    "elif(X>Y):\n",
    "    print('X is greater than Y')\n",
    "else:\n",
    "    print('X and Y are equal')"
   ]
  },
  {
   "cell_type": "code",
   "execution_count": null,
   "metadata": {},
   "outputs": [],
   "source": [
    "count=0\n",
    "while(count<5):\n",
    "    print(count)\n",
    "    count=count+1\n",
    "print(\"Good bye!\")"
   ]
  },
  {
   "cell_type": "code",
   "execution_count": null,
   "metadata": {},
   "outputs": [],
   "source": [
    "fruits=['Banana','Apple','Grapes']\n",
    "for index in range(len(fruits)):\n",
    "    print(fruits[index])"
   ]
  },
  {
   "cell_type": "code",
   "execution_count": null,
   "metadata": {},
   "outputs": [],
   "source": [
    "del str\n",
    "count=1\n",
    "for i in range(10):\n",
    "    print(str(i)*i)\n",
    "for j in range(0,i):\n",
    "    count=count+1"
   ]
  },
  {
   "cell_type": "code",
   "execution_count": null,
   "metadata": {},
   "outputs": [],
   "source": [
    "for i in range(10,50):\n",
    "    print(i)\n",
    "    if(i==30):\n",
    "        break"
   ]
  },
  {
   "cell_type": "code",
   "execution_count": null,
   "metadata": {},
   "outputs": [],
   "source": [
    "for j in range(1,11):\n",
    "    print(j)\n",
    "    if(j==5):\n",
    "        continue"
   ]
  },
  {
   "cell_type": "code",
   "execution_count": null,
   "metadata": {},
   "outputs": [],
   "source": [
    "for j in range(1,11):\n",
    "    print(j)\n",
    "    if(j==5):\n",
    "        continue"
   ]
  },
  {
   "cell_type": "code",
   "execution_count": null,
   "metadata": {},
   "outputs": [],
   "source": [
    "str1=input(\"Enter your input\")\n",
    "print(\"Received input is: \",str1)\n"
   ]
  },
  {
   "cell_type": "code",
   "execution_count": 3,
   "metadata": {},
   "outputs": [
    {
     "name": "stdout",
     "output_type": "stream",
     "text": [
      "1,2,3,4,5\n"
     ]
    }
   ],
   "source": [
    "myfile = open(\"/mnt/home/edureka_633681/raj/example.txt\")\n",
    "txt = myfile.read()\n",
    "print(txt)\n",
    "myfile.close()"
   ]
  },
  {
   "cell_type": "code",
   "execution_count": 2,
   "metadata": {},
   "outputs": [
    {
     "name": "stdout",
     "output_type": "stream",
     "text": [
      "Files in '/mnt/home/edureka_633681/raj': ['example.txt', '.ipynb_checkpoints', 'test1', 'Edut03272021.ipynb']\n"
     ]
    }
   ],
   "source": [
    "import os\n",
    "\n",
    "cwd = os.getcwd()  # Get the current working directory (cwd)\n",
    "files = os.listdir(cwd)  # Get all the files in that directory\n",
    "print(\"Files in %r: %s\" % (cwd, files))"
   ]
  },
  {
   "cell_type": "code",
   "execution_count": 4,
   "metadata": {},
   "outputs": [
    {
     "name": "stdout",
     "output_type": "stream",
     "text": [
      "Output of Read function is \n",
      "Hello \n",
      "Super ManCaptain America\n",
      "Wonder Woman\n",
      "\n",
      "Output of Readline function is \n",
      "Hello \n",
      "\n",
      "Output of Read(9) function is \n",
      "Hello \n",
      "Su\n",
      "Output of Readline(9) function is \n",
      "Hello \n",
      "\n",
      "Output of Readlines function is \n",
      "['Hello \\n', 'Super ManCaptain America\\n', 'Wonder Woman\\n']\n"
     ]
    }
   ],
   "source": [
    "file1 = open(\"/mnt/home/edureka_633681/raj/example1.txt\", \"w\")\n",
    "L = [\"Super Man\",\"Captain America\\n\",\"Wonder Woman\\n\"] \n",
    "  \n",
    "# \\n is placed to indicate EOL (End of Line)\n",
    "file1.write(\"Hello \\n\")\n",
    "file1.writelines(L)\n",
    "file1.close() #to change file access modes\n",
    "\n",
    "file1 = open(\"/mnt/home/edureka_633681/raj/example1.txt\", \"r+\")\n",
    "\n",
    "print(\"Output of Read function is \")\n",
    "print(file1.read())\n",
    "  \n",
    "# seek(n) takes the file handle to the nth\n",
    "# bite from the beginning.\n",
    "file1.seek(0) \n",
    "  \n",
    "print(\"Output of Readline function is \")\n",
    "print(file1.readline())\n",
    "\n",
    "  \n",
    "file1.seek(0)\n",
    "  \n",
    "# To show difference between read and readline\n",
    "print(\"Output of Read(9) function is \")\n",
    "print(file1.read(9))\n",
    "file1.seek(0)\n",
    "  \n",
    "print(\"Output of Readline(9) function is \")\n",
    "print(file1.readline(9))\n",
    "  \n",
    "file1.seek(0)\n",
    "# readlines function\n",
    "print(\"Output of Readlines function is \")\n",
    "print(file1.readlines())\n",
    "file1.close()"
   ]
  },
  {
   "cell_type": "code",
   "execution_count": null,
   "metadata": {
    "collapsed": true
   },
   "outputs": [],
   "source": []
  },
  {
   "cell_type": "code",
   "execution_count": null,
   "metadata": {
    "collapsed": true
   },
   "outputs": [],
   "source": []
  }
 ],
 "metadata": {
  "kernelspec": {
   "display_name": "Python 3",
   "language": "python",
   "name": "python3"
  },
  "language_info": {
   "codemirror_mode": {
    "name": "ipython",
    "version": 3
   },
   "file_extension": ".py",
   "mimetype": "text/x-python",
   "name": "python",
   "nbconvert_exporter": "python",
   "pygments_lexer": "ipython3",
   "version": "3.6.3"
  }
 },
 "nbformat": 4,
 "nbformat_minor": 4
}
