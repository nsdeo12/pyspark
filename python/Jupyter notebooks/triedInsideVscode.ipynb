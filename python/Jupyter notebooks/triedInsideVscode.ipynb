{
 "metadata": {
  "language_info": {
   "codemirror_mode": {
    "name": "ipython",
    "version": 3
   },
   "file_extension": ".py",
   "mimetype": "text/x-python",
   "name": "python",
   "nbconvert_exporter": "python",
   "pygments_lexer": "ipython3",
   "version": "3.8.8"
  },
  "orig_nbformat": 2,
  "kernelspec": {
   "name": "python388jvsc74a57bd0b3ba2566441a7c06988d0923437866b63cedc61552a5af99d1f4fb67d367b25f",
   "display_name": "Python 3.8.8 64-bit ('base': conda)"
  }
 },
 "nbformat": 4,
 "nbformat_minor": 2,
 "cells": [
  {
   "cell_type": "code",
   "execution_count": 14,
   "metadata": {},
   "outputs": [
    {
     "output_type": "stream",
     "name": "stdout",
     "text": [
      "4\n"
     ]
    }
   ],
   "source": [
    "#1.What is the output of the following code?\n",
    "nums=set([1,12,3,3,3,4,4])\n",
    "print(len(nums))"
   ]
  },
  {
   "cell_type": "code",
   "execution_count": 15,
   "metadata": {},
   "outputs": [
    {
     "output_type": "stream",
     "name": "stdout",
     "text": [
      "['john', 'peter']\n"
     ]
    }
   ],
   "source": [
    "#2.What will be the output?\n",
    "d={\"john\":40,\"peter\":45}\n",
    "print(list(d.keys()))"
   ]
  },
  {
   "cell_type": "code",
   "execution_count": 20,
   "metadata": {},
   "outputs": [
    {
     "output_type": "stream",
     "name": "stdout",
     "text": [
      "Valid Password\n"
     ]
    }
   ],
   "source": [
    "#/////////////////////////////////////////////\n",
    "#///////////////Regex Python//////////////////\n",
    "#/////////////////////////////////////////////\n",
    "#3.A website requires a user to input username and password to register. Write a program to check the validity of password given by user. Following are the criteria for checking password:\n",
    "import re\n",
    "password=input('Enter the password')\n",
    "flag=0\n",
    "while True:\n",
    "    if(len(password)<6 && len(password)>12):\n",
    "        flag=-1\n",
    "        print('Required minimum 8 characters')\n",
    "        break\n",
    "    elif not (re.search(\"[a-z]\",password)):\n",
    "        flag=-1\n",
    "        print('Required at least 1 letter between a-z')\n",
    "        break\n",
    "    elif not(re.search(\"[A-Z]\",password)):\n",
    "        flag=-1\n",
    "        break\n",
    "    elif not(re.search(\"[0-9]\",password)):\n",
    "        flag=-1\n",
    "        print('Required at least 1 number between [0-9]')\n",
    "        break\n",
    "    elif not(re.search(\"[#@$]\",password)):\n",
    "        flag=-1\n",
    "        print('Required at least 1 number between [0-9]')\n",
    "        break\n",
    "    elif (re.search(\"\\s\",password)):\n",
    "        flag=-1\n",
    "        print('Required no white space')\n",
    "        break\n",
    "    else:\n",
    "        flag=0\n",
    "        print(\"Valid Password\")\n",
    "        break\n",
    "if flag==-1:\n",
    "    print(\"Not a valid password\")"
   ]
  },
  {
   "cell_type": "code",
   "execution_count": 26,
   "metadata": {},
   "outputs": [
    {
     "output_type": "stream",
     "name": "stdout",
     "text": [
      "The element  4 is at the position  0\nThe element  7 is at the position  1\nThe element  3 is at the position  2\nThe element  2 is at the position  3\nThe element  5 is at the position  4\nThe element  9 is at the position  5\n"
     ]
    }
   ],
   "source": [
    "#4.Loop that prints all elements of a list and their position in the list\n",
    "a=[4,7,3,2,5,9]\n",
    "for val in a:\n",
    "    print(\"The element \",val,\"is at the position \",a.index(val))"
   ]
  },
  {
   "cell_type": "code",
   "execution_count": 49,
   "metadata": {},
   "outputs": [
    {
     "output_type": "stream",
     "name": "stdout",
     "text": [
      "Even String>>:  Helloworld\n",
      "Helloworld\n"
     ]
    }
   ],
   "source": [
    "#5.Please   write   a   program   which   accepts  a   string   from   console   and   print   the characters that have even indexes.Example: If the following string is given as input to the program:H1e2l3l4o5w6o7r8l9dThen, the output of the program should be:Helloworld\n",
    "inputString=input('Enter a string')\n",
    "evenString=[]\n",
    "oddString=[]\n",
    "for i in range(0,len(inputString)):\n",
    "    if i%2==0:\n",
    "        evenString.append(inputString[i])\n",
    "    else:\n",
    "        oddString.append(i)\n",
    "# print('Even String',evenString.split(\",\"))\n",
    "print('Even String>>: ',''.join(evenString))\n",
    "####alternatively#####\n",
    "inputvalue=input('Enter a string again')\n",
    "res=inputvalue[::2]\n",
    "print(res)"
   ]
  },
  {
   "cell_type": "code",
   "execution_count": 53,
   "metadata": {},
   "outputs": [
    {
     "output_type": "stream",
     "name": "stdout",
     "text": [
      "reversed string>> \n"
     ]
    }
   ],
   "source": [
    "#6.Please write a program which accepts a string from console and print it in reverse order.Example: If the following string is given as input to the program: rise to vote sirThen, the output of the program should be:ris etov ot esir\n",
    "givenString=input('Enter a string')\n",
    "reversedString=givenString[::-1]\n",
    "print('reversed string>>',reversedString)\n"
   ]
  },
  {
   "cell_type": "code",
   "execution_count": 66,
   "metadata": {},
   "outputs": [
    {
     "output_type": "stream",
     "name": "stdout",
     "text": [
      "Count of all characters: \n Counter({'l': 3, 'H': 1, 'e': 1, 'o': 1, 'w': 1, 's': 1})\nREsult>> {'H': 1, 'e': 1, 'l': 3, 'o': 1, 'w': 1, 's': 1}\n\nresult set {'s': 1, 'H': 1, 'l': 3, 'e': 1, 'w': 1, 'o': 1}\n"
     ]
    }
   ],
   "source": [
    "#7.Please write a program which count and print the numbers of each character in a string input by console.Example: If the following string is given as input to the program:abcdefgabc,Then, the output of the program should be:a,2 c,2 b,2 e,1 d,1 g,1 f,1\n",
    "#Using Collection\n",
    "from collections import Counter\n",
    "inputStr=input('Enter a String')\n",
    "res=Counter(inputStr)\n",
    "print(\"Count of all characters: \\n\",res)\n",
    "\n",
    "#Using Dictionary ,Prefered \n",
    "result={}\n",
    "for chars in inputStr:\n",
    "    result[chars]=result.get(chars,0)+1\n",
    "print('REsult>>',result)\n",
    "\n",
    "#Using set and count\n",
    "resultSet={i:inputStr.count(i) for i in set(inputStr)}\n",
    "print('\\nresult set',resultSet)\n",
    "# for i in inputStr:\n",
    "#     print(\">>\",inputStr.count(i))\n",
    "\n"
   ]
  },
  {
   "cell_type": "code",
   "execution_count": 75,
   "metadata": {},
   "outputs": [
    {
     "output_type": "stream",
     "name": "stdout",
     "text": [
      "Intersection of list:  [35, 45]\nalternatively: [35, 45]\nalternative2: [35, 45]\n"
     ]
    }
   ],
   "source": [
    "#8.With   two   given   lists   [1,3,6,78,35,55]   and   [12,24,35,24,88,120,155],   write   a program to make a list whose elements are intersection of the above given lists.\n",
    "list1=[1,3,6,78,35,45,55]\n",
    "list2=[12,24,35,24,45,88,120,155]\n",
    "#alt 1\n",
    "resultList=[x for x in list1 if x in list2]\n",
    "print('Intersection of lists: ',resultList)\n",
    "\n",
    "#alt 2 use & operator for intersection on set\n",
    "resultListalt=list(set(list1) & set(list2))\n",
    "print('alternatively:',resultListalt)\n",
    "\n",
    "#alt 3 use x.intersection(y) after converting list to set\n",
    "resultListalt=list(set(list1).intersection(set(list2)))\n",
    "print('alternative2:',resultListalt)"
   ]
  },
  {
   "cell_type": "code",
   "execution_count": 79,
   "metadata": {},
   "outputs": [
    {
     "output_type": "stream",
     "name": "stdout",
     "text": [
      "final list [12, 24, 35, 88, 120, 155]\nUsing ordered dictionary: [12, 24, 35, 88, 120, 155]\n"
     ]
    }
   ],
   "source": [
    "#9.With a given list [12,24,35,24,88,120,155,88,120,155], write a program to print this list after removing all duplicate values with original order reserved.\n",
    "listOriginal=[12,24,35,24,88,120,155,88,120,155]\n",
    "# listFinal=list(set(listOriginal)) does not preserve order\n",
    "listFinal=[]\n",
    "for i in listOriginal:\n",
    "    if i not in listFinal:\n",
    "        listFinal.append(i)\n",
    "print('final list',listFinal)\n",
    "\n",
    "#alternative: use Ordered dictionary\n",
    "from collections import OrderedDict\n",
    "finalList=list(OrderedDict.fromkeys(listOriginal))\n",
    "print('Using ordered dictionary:',finalList)"
   ]
  },
  {
   "cell_type": "code",
   "execution_count": 88,
   "metadata": {},
   "outputs": [
    {
     "output_type": "stream",
     "name": "stdout",
     "text": [
      "[1, 2, 3, 2, 5, 3, 3] 1\n[1, 3, 2, 5, 3, 3] 2\n[1, 3, 2, 5, 3, 3] 2\n[1, 3, 2, 5, 3, 3] 5\n[1, 2, 5, 3, 3] 3\nstill duplicates found>>>>>\na [1, 2, 5, 3, 3]\n[1, 2, 5, 3, 3] 1\n[1, 2, 5, 3, 3] 2\n[1, 2, 5, 3, 3] 5\n[1, 2, 5, 3] 3\n[1, 2, 5, 3] 3\nNo duplicates found>>>>>\na [1, 2, 5, 3]\n"
     ]
    }
   ],
   "source": [
    "#Some example \n",
    "# removing duplicates ,what's wrong in the code?\n",
    "a = [1, 2,3, 2, 5,3,3]\n",
    " \n",
    "for i in a:\n",
    "    if a.count(i) > 1:\n",
    "        a.remove(i)\n",
    "    print(a, i)\n",
    "print('still duplicates found>>>>>')\n",
    "print('a',a)\n",
    "\n",
    "#change it to for i in a[:] \n",
    "#traverse on a copy of the list but remove from the main list\n",
    "for i in a[:]:\n",
    "    if a.count(i) > 1:\n",
    "        a.remove(i)\n",
    "    print(a, i)\n",
    " \n",
    "print('No duplicates found>>>>>')\n",
    "print('a',a)"
   ]
  },
  {
   "cell_type": "code",
   "execution_count": 93,
   "metadata": {},
   "outputs": [
    {
     "output_type": "stream",
     "name": "stdout",
     "text": [
      "[12, 35, 88, 120, 155]\n"
     ]
    }
   ],
   "source": [
    "#10.By using list comprehension, please write a program to print the list after removing the value 24 in [12,24,35,24,88,120,155].\n",
    "givenlist=[12,24,35,24,88,120,155]\n",
    "resultList=[val for val in givenlist if val!=24]\n",
    "print(resultList)"
   ]
  },
  {
   "cell_type": "code",
   "execution_count": 95,
   "metadata": {},
   "outputs": [
    {
     "output_type": "stream",
     "name": "stdout",
     "text": [
      "[24, 35, 24, 155]\n"
     ]
    }
   ],
   "source": [
    "#11.By using list comprehension, please write a program to print the list after removing the 0th,4th,5th numbers in [12,24,35,70,88,120,155].\n",
    "givenlist=[12,24,35,24,88,120,155]\n",
    "resultList=[val for val in givenlist if val not in (givenlist[0],givenlist[4],givenlist[5])]\n",
    "print(resultList)"
   ]
  },
  {
   "cell_type": "code",
   "execution_count": 109,
   "metadata": {},
   "outputs": [
    {
     "output_type": "stream",
     "name": "stdout",
     "text": [
      "[12, 24, 24, 88, 120, 155, 14, 15, 33]\n"
     ]
    }
   ],
   "source": [
    "#12.By using list comprehension, please write a program to print the list after removing delete numbers which are divisible by 5 and 7 in [12,24,35,24,88,70,120,155,14,15,33]\n",
    "givenlist=[12,24,35,24,88,70,120,155,14,15,33]\n",
    "resultList=[val for val in givenlist if val%35!=0]\n",
    "print(resultList)"
   ]
  },
  {
   "cell_type": "code",
   "execution_count": 3,
   "metadata": {},
   "outputs": [
    {
     "output_type": "stream",
     "name": "stdout",
     "text": [
      "[350, 280, 560, 210, 840]\n"
     ]
    }
   ],
   "source": [
    "#13.Please  write  a  program  to  randomly  generate  a  list  with  5  numbers,  which  are divisible by 5 and 7 , between 1 and 1000 inclusive.\n",
    "import random\n",
    "# randomList=random.sample(range(1,1000),5)\n",
    "devidedBy35=[i for i in range(1,1000) if (i%35==0)]\n",
    "finalList=random.sample(devidedBy35,5)\n",
    "print(finalList)"
   ]
  },
  {
   "cell_type": "code",
   "execution_count": 10,
   "metadata": {},
   "outputs": [
    {
     "output_type": "stream",
     "name": "stdout",
     "text": [
      "Summation of the series:  3.5500000000000003\n"
     ]
    }
   ],
   "source": [
    "#14.Write  a  program  to  compute  1/2+2/3+3/4+...+n/n+1  with  a  given  n  input  by console (n>0).Example:If the following n is given as input to the program:5Then, the output of the program should be:3.55\n",
    "sum=0\n",
    "i=1\n",
    "n=input('Enter a number:\\n')\n",
    "while i<=int(n):\n",
    "    sum+=i/(i+1)\n",
    "    i+=1\n",
    "print('Summation of the series: ',sum)\n",
    "\n"
   ]
  }
 ]
}